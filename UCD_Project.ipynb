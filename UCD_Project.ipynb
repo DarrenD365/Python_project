{
 "cells": [
  {
   "cell_type": "code",
   "execution_count": 3,
   "id": "e980f893-f5d6-46fc-a6b0-dea3c2bcfb42",
   "metadata": {},
   "outputs": [],
   "source": [
    "import pandas as pd\n",
    "import seaborn as sns\n",
    "import matplotlib.pyplot as plt\n",
    "import numpy as np"
   ]
  },
  {
   "cell_type": "code",
   "execution_count": 47,
   "id": "3fb4fc6f-af02-498d-8e77-ec4a69ceac60",
   "metadata": {},
   "outputs": [
    {
     "name": "stdout",
     "output_type": "stream",
     "text": [
      "   Year     Month Week Retail Code               Countries Turnover in EUR  \\\n",
      "0  2022  February  W06         Q93  CLIENT SERVICE DENMARK          10 077   \n",
      "1  2022     April  W17         Q93  CLIENT SERVICE DENMARK          16 071   \n",
      "2  2022      June  W26         Q93  CLIENT SERVICE DENMARK          10 141   \n",
      "3  2022     April  W14         A90   CLIENT SERVICE FRANCE         187 844   \n",
      "4  2022       May  W21         A90   CLIENT SERVICE FRANCE         178 956   \n",
      "\n",
      "  Commercial Sales Quantity Transactions (Scope Retail KPI) SPT in EUR   UPT  \n",
      "0                         7                              13      1 110  1.00  \n",
      "1                        15                              18        929  1.00  \n",
      "2                        13                              15        839  1.00  \n",
      "3                       269                             225        889  1.24  \n",
      "4                       231                             243        805  1.01  \n"
     ]
    }
   ],
   "source": [
    "#import CSV file in Dataframe\n",
    "sales_22 = pd.read_csv('Sales _2022.csv')\n",
    "sales_22.rename(columns = {'Store Long Label':'Countries'}, inplace = True)\n",
    "print(sales_22.head())"
   ]
  },
  {
   "cell_type": "code",
   "execution_count": 22,
   "id": "98457cbb-c050-4cd0-ac94-cbe315d97b86",
   "metadata": {},
   "outputs": [
    {
     "data": {
      "text/plain": [
       "(1482, 10)"
      ]
     },
     "execution_count": 22,
     "metadata": {},
     "output_type": "execute_result"
    }
   ],
   "source": [
    "#showing understanding of the shape of the Dataframe and exploring Datatypes\n",
    "sales_22.shape"
   ]
  },
  {
   "cell_type": "code",
   "execution_count": 23,
   "id": "ea2e169a-484d-4785-aeda-44494a8a3019",
   "metadata": {},
   "outputs": [
    {
     "name": "stdout",
     "output_type": "stream",
     "text": [
      "<class 'pandas.core.frame.DataFrame'>\n",
      "RangeIndex: 1482 entries, 0 to 1481\n",
      "Data columns (total 10 columns):\n",
      " #   Column                           Non-Null Count  Dtype  \n",
      "---  ------                           --------------  -----  \n",
      " 0   Year                             1482 non-null   int64  \n",
      " 1   Month                            1482 non-null   object \n",
      " 2   Week                             1482 non-null   object \n",
      " 3   Retail Code                      1482 non-null   object \n",
      " 4   Countries                        1482 non-null   object \n",
      " 5   Turnover in EUR                  1482 non-null   object \n",
      " 6   Commercial Sales Quantity        1482 non-null   object \n",
      " 7   Transactions (Scope Retail KPI)  1482 non-null   object \n",
      " 8   SPT in EUR                       1457 non-null   object \n",
      " 9   UPT                              1457 non-null   float64\n",
      "dtypes: float64(1), int64(1), object(8)\n",
      "memory usage: 115.9+ KB\n"
     ]
    }
   ],
   "source": [
    "sales_22.info()"
   ]
  },
  {
   "cell_type": "code",
   "execution_count": 24,
   "id": "2ec7dfdf-52ac-4ea2-9344-b6c81e4e82a6",
   "metadata": {},
   "outputs": [
    {
     "data": {
      "text/plain": [
       "Year                                 int64\n",
       "Month                               object\n",
       "Week                                object\n",
       "Retail Code                         object\n",
       "Countries                           object\n",
       "Turnover in EUR                     object\n",
       "Commercial Sales Quantity           object\n",
       "Transactions (Scope Retail KPI)     object\n",
       "SPT in EUR                          object\n",
       "UPT                                float64\n",
       "dtype: object"
      ]
     },
     "execution_count": 24,
     "metadata": {},
     "output_type": "execute_result"
    }
   ],
   "source": [
    "sales_22.dtypes"
   ]
  },
  {
   "cell_type": "code",
   "execution_count": 25,
   "id": "f2893455-db31-47a2-b67a-adcf4d1fbd77",
   "metadata": {},
   "outputs": [
    {
     "data": {
      "text/html": [
       "<div>\n",
       "<style scoped>\n",
       "    .dataframe tbody tr th:only-of-type {\n",
       "        vertical-align: middle;\n",
       "    }\n",
       "\n",
       "    .dataframe tbody tr th {\n",
       "        vertical-align: top;\n",
       "    }\n",
       "\n",
       "    .dataframe thead th {\n",
       "        text-align: right;\n",
       "    }\n",
       "</style>\n",
       "<table border=\"1\" class=\"dataframe\">\n",
       "  <thead>\n",
       "    <tr style=\"text-align: right;\">\n",
       "      <th></th>\n",
       "      <th>Year</th>\n",
       "      <th>Month</th>\n",
       "      <th>Week</th>\n",
       "      <th>Retail Code</th>\n",
       "      <th>Countries</th>\n",
       "      <th>Turnover in EUR</th>\n",
       "      <th>Commercial Sales Quantity</th>\n",
       "      <th>Transactions (Scope Retail KPI)</th>\n",
       "      <th>SPT in EUR</th>\n",
       "      <th>UPT</th>\n",
       "    </tr>\n",
       "  </thead>\n",
       "  <tbody>\n",
       "    <tr>\n",
       "      <th>0</th>\n",
       "      <td>2022</td>\n",
       "      <td>February</td>\n",
       "      <td>W06</td>\n",
       "      <td>Q93</td>\n",
       "      <td>CLIENT SERVICE DENMARK</td>\n",
       "      <td>10 077</td>\n",
       "      <td>7</td>\n",
       "      <td>13</td>\n",
       "      <td>1 110</td>\n",
       "      <td>1.00</td>\n",
       "    </tr>\n",
       "    <tr>\n",
       "      <th>1</th>\n",
       "      <td>2022</td>\n",
       "      <td>April</td>\n",
       "      <td>W17</td>\n",
       "      <td>Q93</td>\n",
       "      <td>CLIENT SERVICE DENMARK</td>\n",
       "      <td>16 071</td>\n",
       "      <td>15</td>\n",
       "      <td>18</td>\n",
       "      <td>929</td>\n",
       "      <td>1.00</td>\n",
       "    </tr>\n",
       "    <tr>\n",
       "      <th>2</th>\n",
       "      <td>2022</td>\n",
       "      <td>June</td>\n",
       "      <td>W26</td>\n",
       "      <td>Q93</td>\n",
       "      <td>CLIENT SERVICE DENMARK</td>\n",
       "      <td>10 141</td>\n",
       "      <td>13</td>\n",
       "      <td>15</td>\n",
       "      <td>839</td>\n",
       "      <td>1.00</td>\n",
       "    </tr>\n",
       "    <tr>\n",
       "      <th>3</th>\n",
       "      <td>2022</td>\n",
       "      <td>April</td>\n",
       "      <td>W14</td>\n",
       "      <td>A90</td>\n",
       "      <td>CLIENT SERVICE FRANCE</td>\n",
       "      <td>187 844</td>\n",
       "      <td>269</td>\n",
       "      <td>225</td>\n",
       "      <td>889</td>\n",
       "      <td>1.24</td>\n",
       "    </tr>\n",
       "    <tr>\n",
       "      <th>4</th>\n",
       "      <td>2022</td>\n",
       "      <td>May</td>\n",
       "      <td>W21</td>\n",
       "      <td>A90</td>\n",
       "      <td>CLIENT SERVICE FRANCE</td>\n",
       "      <td>178 956</td>\n",
       "      <td>231</td>\n",
       "      <td>243</td>\n",
       "      <td>805</td>\n",
       "      <td>1.01</td>\n",
       "    </tr>\n",
       "  </tbody>\n",
       "</table>\n",
       "</div>"
      ],
      "text/plain": [
       "   Year     Month Week Retail Code               Countries Turnover in EUR  \\\n",
       "0  2022  February  W06         Q93  CLIENT SERVICE DENMARK          10 077   \n",
       "1  2022     April  W17         Q93  CLIENT SERVICE DENMARK          16 071   \n",
       "2  2022      June  W26         Q93  CLIENT SERVICE DENMARK          10 141   \n",
       "3  2022     April  W14         A90   CLIENT SERVICE FRANCE         187 844   \n",
       "4  2022       May  W21         A90   CLIENT SERVICE FRANCE         178 956   \n",
       "\n",
       "  Commercial Sales Quantity Transactions (Scope Retail KPI) SPT in EUR   UPT  \n",
       "0                         7                              13      1 110  1.00  \n",
       "1                        15                              18        929  1.00  \n",
       "2                        13                              15        839  1.00  \n",
       "3                       269                             225        889  1.24  \n",
       "4                       231                             243        805  1.01  "
      ]
     },
     "execution_count": 25,
     "metadata": {},
     "output_type": "execute_result"
    }
   ],
   "source": [
    "sales_22.head()"
   ]
  },
  {
   "cell_type": "code",
   "execution_count": 26,
   "id": "6df42164-daae-4eb5-a7ae-d31326dbe18c",
   "metadata": {},
   "outputs": [],
   "source": [
    "#cleaning data\n",
    "sales_22['Turnover in EUR'] = sales_22['Turnover in EUR'].str.replace(' ', \"\")"
   ]
  },
  {
   "cell_type": "code",
   "execution_count": 27,
   "id": "9a4b4ad0-4f12-4f1a-bd15-a032030dbfd9",
   "metadata": {},
   "outputs": [
    {
     "data": {
      "text/html": [
       "<div>\n",
       "<style scoped>\n",
       "    .dataframe tbody tr th:only-of-type {\n",
       "        vertical-align: middle;\n",
       "    }\n",
       "\n",
       "    .dataframe tbody tr th {\n",
       "        vertical-align: top;\n",
       "    }\n",
       "\n",
       "    .dataframe thead th {\n",
       "        text-align: right;\n",
       "    }\n",
       "</style>\n",
       "<table border=\"1\" class=\"dataframe\">\n",
       "  <thead>\n",
       "    <tr style=\"text-align: right;\">\n",
       "      <th></th>\n",
       "      <th>Year</th>\n",
       "      <th>Month</th>\n",
       "      <th>Week</th>\n",
       "      <th>Retail Code</th>\n",
       "      <th>Countries</th>\n",
       "      <th>Turnover in EUR</th>\n",
       "      <th>Commercial Sales Quantity</th>\n",
       "      <th>Transactions (Scope Retail KPI)</th>\n",
       "      <th>SPT in EUR</th>\n",
       "      <th>UPT</th>\n",
       "    </tr>\n",
       "  </thead>\n",
       "  <tbody>\n",
       "    <tr>\n",
       "      <th>0</th>\n",
       "      <td>2022</td>\n",
       "      <td>February</td>\n",
       "      <td>W06</td>\n",
       "      <td>Q93</td>\n",
       "      <td>CLIENT SERVICE DENMARK</td>\n",
       "      <td>10077</td>\n",
       "      <td>7</td>\n",
       "      <td>13</td>\n",
       "      <td>1 110</td>\n",
       "      <td>1.00</td>\n",
       "    </tr>\n",
       "    <tr>\n",
       "      <th>1</th>\n",
       "      <td>2022</td>\n",
       "      <td>April</td>\n",
       "      <td>W17</td>\n",
       "      <td>Q93</td>\n",
       "      <td>CLIENT SERVICE DENMARK</td>\n",
       "      <td>16071</td>\n",
       "      <td>15</td>\n",
       "      <td>18</td>\n",
       "      <td>929</td>\n",
       "      <td>1.00</td>\n",
       "    </tr>\n",
       "    <tr>\n",
       "      <th>2</th>\n",
       "      <td>2022</td>\n",
       "      <td>June</td>\n",
       "      <td>W26</td>\n",
       "      <td>Q93</td>\n",
       "      <td>CLIENT SERVICE DENMARK</td>\n",
       "      <td>10141</td>\n",
       "      <td>13</td>\n",
       "      <td>15</td>\n",
       "      <td>839</td>\n",
       "      <td>1.00</td>\n",
       "    </tr>\n",
       "    <tr>\n",
       "      <th>3</th>\n",
       "      <td>2022</td>\n",
       "      <td>April</td>\n",
       "      <td>W14</td>\n",
       "      <td>A90</td>\n",
       "      <td>CLIENT SERVICE FRANCE</td>\n",
       "      <td>187844</td>\n",
       "      <td>269</td>\n",
       "      <td>225</td>\n",
       "      <td>889</td>\n",
       "      <td>1.24</td>\n",
       "    </tr>\n",
       "    <tr>\n",
       "      <th>4</th>\n",
       "      <td>2022</td>\n",
       "      <td>May</td>\n",
       "      <td>W21</td>\n",
       "      <td>A90</td>\n",
       "      <td>CLIENT SERVICE FRANCE</td>\n",
       "      <td>178956</td>\n",
       "      <td>231</td>\n",
       "      <td>243</td>\n",
       "      <td>805</td>\n",
       "      <td>1.01</td>\n",
       "    </tr>\n",
       "  </tbody>\n",
       "</table>\n",
       "</div>"
      ],
      "text/plain": [
       "   Year     Month Week Retail Code               Countries Turnover in EUR  \\\n",
       "0  2022  February  W06         Q93  CLIENT SERVICE DENMARK           10077   \n",
       "1  2022     April  W17         Q93  CLIENT SERVICE DENMARK           16071   \n",
       "2  2022      June  W26         Q93  CLIENT SERVICE DENMARK           10141   \n",
       "3  2022     April  W14         A90   CLIENT SERVICE FRANCE          187844   \n",
       "4  2022       May  W21         A90   CLIENT SERVICE FRANCE          178956   \n",
       "\n",
       "  Commercial Sales Quantity Transactions (Scope Retail KPI) SPT in EUR   UPT  \n",
       "0                         7                              13      1 110  1.00  \n",
       "1                        15                              18        929  1.00  \n",
       "2                        13                              15        839  1.00  \n",
       "3                       269                             225        889  1.24  \n",
       "4                       231                             243        805  1.01  "
      ]
     },
     "execution_count": 27,
     "metadata": {},
     "output_type": "execute_result"
    }
   ],
   "source": [
    "sales_22.head()"
   ]
  },
  {
   "cell_type": "code",
   "execution_count": 10,
   "id": "157ecff6-ff27-4b6f-9807-54fe3d6d5a84",
   "metadata": {},
   "outputs": [],
   "source": [
    "sales_22['Turnover in EUR'] = pd.to_numeric(sales_22[\"Turnover in EUR\"], errors='coerce')"
   ]
  },
  {
   "cell_type": "code",
   "execution_count": 11,
   "id": "11bd700b-5750-4ed2-a363-08775088fe8e",
   "metadata": {},
   "outputs": [
    {
     "data": {
      "text/plain": [
       "Year                                 int64\n",
       "Month                               object\n",
       "Week                                object\n",
       "Retail Code                         object\n",
       "Country                             object\n",
       "Turnover in EUR                      int64\n",
       "Commercial Sales Quantity           object\n",
       "Transactions (Scope Retail KPI)     object\n",
       "SPT in EUR                          object\n",
       "UPT                                float64\n",
       "dtype: object"
      ]
     },
     "execution_count": 11,
     "metadata": {},
     "output_type": "execute_result"
    }
   ],
   "source": [
    "sales_22.dtypes"
   ]
  },
  {
   "cell_type": "code",
   "execution_count": 12,
   "id": "2a79dcd9-f461-4b17-ad8a-660b2dfc8ab0",
   "metadata": {},
   "outputs": [],
   "source": [
    "#when first viewing the data the months on the graph below were out of order, adding this helped fix the issue\n",
    "month_dict={'January':1, 'February':2, 'March':3, 'April':4, 'May':5, 'June':6, 'July':7, 'August':8, 'September':9,'October':10, 'November':11, 'December':12}\n",
    "sales_22=sales_22.sort_values('Month', key = lambda x: x.apply (lambda x : month_dict[x]))"
   ]
  },
  {
   "cell_type": "code",
   "execution_count": 13,
   "id": "396623e8-08a7-4417-be7e-ecda58f32594",
   "metadata": {},
   "outputs": [
    {
     "data": {
      "image/png": "[encoded data removed]",
      "text/plain": [
       "<Figure size 1440x360 with 1 Axes>"
      ]
     },
     "metadata": {
      "needs_background": "light"
     },
     "output_type": "display_data"
    }
   ],
   "source": [
    "#exploring the initial data\n",
    "plt.figure(figsize=(20,5))\n",
    "sns.barplot(x=\"Month\", y=\"Turnover in EUR\", data= sales_22, palette=\"rocket\").set(title='Turnover per Month')\n",
    "plt.show()"
   ]
  },
  {
   "cell_type": "code",
   "execution_count": 15,
   "id": "b5edc873-b7f2-46e2-b9c7-10030ac4de68",
   "metadata": {},
   "outputs": [
    {
     "data": {
      "image/png": "[encoded data removed]",
      "text/plain": [
       "<Figure size 720x720 with 1 Axes>"
      ]
     },
     "metadata": {
      "needs_background": "light"
     },
     "output_type": "display_data"
    }
   ],
   "source": [
    "plt.figure(figsize=(10,10))\n",
    "sns.barplot(x='Turnover in EUR', y='Country', data= sales_22).set(title='Turnover per Store')\n",
    "plt.show()"
   ]
  },
  {
   "cell_type": "code",
   "execution_count": 26,
   "id": "8538d2cb-2f6f-4500-b403-a6195ca1b114",
   "metadata": {},
   "outputs": [],
   "source": [
    "import requests"
   ]
  },
  {
   "cell_type": "code",
   "execution_count": 17,
   "id": "72176569-7e3d-42c2-ad66-53d629ba01cb",
   "metadata": {},
   "outputs": [
    {
     "name": "stdout",
     "output_type": "stream",
     "text": [
      "   Rank      Country  2022       2020 Change EUR Change %\n",
      "0   1.0      Denmark  6173  €5,179.00   € 994.00   19.19%\n",
      "1   2.0   Luxembourg  5143  €5,143.00     € 0.00    0.00%\n",
      "2   3.0      Austria  4540  €3,811.00   € 729.00   19.13%\n",
      "3   4.0      Germany  4168  €4,035.00   € 133.00    3.30%\n",
      "4   5.0       Sweden  4154  €3,194.00   € 960.00   30.06%\n",
      "5   6.0       France  4130  €3,097.00  €1,033.00   33.35%\n",
      "6   7.0      Ireland  4049  €3,867.00   € 182.00    4.71%\n",
      "7   8.0      Belgium  3775  €3,401.00   € 374.00   11.00%\n",
      "8   9.0      Finland  3380  €3,380.00     € 0.00    0.00%\n",
      "9  10.0  Netherlands  2808  €2,855.00   -€ 47.00   -1.65%\n"
     ]
    },
    {
     "name": "stderr",
     "output_type": "stream",
     "text": [
      "<ipython-input-17-44be21854ade>:4: FutureWarning: The default value of regex will change from True to False in a future version.\n",
      "  avg_salaries['2022'] = avg_salaries['2022'].str.replace('.00', \"\")\n"
     ]
    }
   ],
   "source": [
    "avg_salaries = pd.read_csv('european average salaries.csv')\n",
    "avg_salaries['2022'] = avg_salaries['2022'].str.replace('€', \"\")\n",
    "avg_salaries['2022'] = avg_salaries['2022'].str.replace(',', \"\")\n",
    "avg_salaries['2022'] = avg_salaries['2022'].str.replace('.00', \"\")\n",
    "print(avg_salaries.head(10))"
   ]
  },
  {
   "cell_type": "code",
   "execution_count": 18,
   "id": "8fc6c9b5-1b7a-4f5a-b6cc-200ca7484b2f",
   "metadata": {},
   "outputs": [
    {
     "data": {
      "text/plain": [
       "Rank          float64\n",
       "Country        object\n",
       "2022           object\n",
       "2020           object\n",
       "Change EUR     object\n",
       "Change %       object\n",
       "dtype: object"
      ]
     },
     "execution_count": 18,
     "metadata": {},
     "output_type": "execute_result"
    }
   ],
   "source": [
    "avg_salaries.dtypes"
   ]
  },
  {
   "cell_type": "code",
   "execution_count": 19,
   "id": "8a4f893c-e89c-4e4d-8741-7ee0edcb07b5",
   "metadata": {},
   "outputs": [],
   "source": [
    "avg_salaries['2022'] = pd.to_numeric(avg_salaries[\"2022\"], errors='coerce')"
   ]
  },
  {
   "cell_type": "code",
   "execution_count": 31,
   "id": "fc10990f-c3bb-46c5-8ed6-f5bdeea6c331",
   "metadata": {},
   "outputs": [],
   "source": [
    "sales_vs_salaries = sales_22.merge(avg_salaries, left_on= \"Countries\", right_on= \"Country\")"
   ]
  },
  {
   "cell_type": "code",
   "execution_count": 33,
   "id": "fc917280-14b7-4fe5-983f-60cc20d4d8f9",
   "metadata": {},
   "outputs": [
    {
     "data": {
      "text/html": [
       "<div>\n",
       "<style scoped>\n",
       "    .dataframe tbody tr th:only-of-type {\n",
       "        vertical-align: middle;\n",
       "    }\n",
       "\n",
       "    .dataframe tbody tr th {\n",
       "        vertical-align: top;\n",
       "    }\n",
       "\n",
       "    .dataframe thead th {\n",
       "        text-align: right;\n",
       "    }\n",
       "</style>\n",
       "<table border=\"1\" class=\"dataframe\">\n",
       "  <thead>\n",
       "    <tr style=\"text-align: right;\">\n",
       "      <th></th>\n",
       "      <th>Year</th>\n",
       "      <th>Month</th>\n",
       "      <th>Week</th>\n",
       "      <th>Retail Code</th>\n",
       "      <th>Countries</th>\n",
       "      <th>Turnover in EUR</th>\n",
       "      <th>Commercial Sales Quantity</th>\n",
       "      <th>Transactions (Scope Retail KPI)</th>\n",
       "      <th>SPT in EUR</th>\n",
       "      <th>UPT</th>\n",
       "      <th>Rank</th>\n",
       "      <th>Country</th>\n",
       "      <th>2022</th>\n",
       "      <th>2020</th>\n",
       "      <th>Change EUR</th>\n",
       "      <th>Change %</th>\n",
       "    </tr>\n",
       "  </thead>\n",
       "  <tbody>\n",
       "  </tbody>\n",
       "</table>\n",
       "</div>"
      ],
      "text/plain": [
       "Empty DataFrame\n",
       "Columns: [Year, Month, Week, Retail Code, Countries, Turnover in EUR, Commercial Sales Quantity, Transactions (Scope Retail KPI), SPT in EUR, UPT, Rank, Country, 2022, 2020, Change EUR, Change %]\n",
       "Index: []"
      ]
     },
     "execution_count": 33,
     "metadata": {},
     "output_type": "execute_result"
    }
   ],
   "source": [
    "sales_vs_salaries.head(10)"
   ]
  },
  {
   "cell_type": "code",
   "execution_count": 34,
   "id": "12e37616-0be8-4188-bfb7-c1e7a2936d44",
   "metadata": {},
   "outputs": [
    {
     "data": {
      "text/html": [
       "<div>\n",
       "<style scoped>\n",
       "    .dataframe tbody tr th:only-of-type {\n",
       "        vertical-align: middle;\n",
       "    }\n",
       "\n",
       "    .dataframe tbody tr th {\n",
       "        vertical-align: top;\n",
       "    }\n",
       "\n",
       "    .dataframe thead th {\n",
       "        text-align: right;\n",
       "    }\n",
       "</style>\n",
       "<table border=\"1\" class=\"dataframe\">\n",
       "  <thead>\n",
       "    <tr style=\"text-align: right;\">\n",
       "      <th></th>\n",
       "      <th>Year</th>\n",
       "      <th>Month</th>\n",
       "      <th>Week</th>\n",
       "      <th>Retail Code</th>\n",
       "      <th>Countries</th>\n",
       "      <th>Turnover in EUR</th>\n",
       "      <th>Commercial Sales Quantity</th>\n",
       "      <th>Transactions (Scope Retail KPI)</th>\n",
       "      <th>SPT in EUR</th>\n",
       "      <th>UPT</th>\n",
       "    </tr>\n",
       "  </thead>\n",
       "  <tbody>\n",
       "    <tr>\n",
       "      <th>0</th>\n",
       "      <td>2022</td>\n",
       "      <td>February</td>\n",
       "      <td>W06</td>\n",
       "      <td>Q93</td>\n",
       "      <td>CLIENT SERVICE DENMARK</td>\n",
       "      <td>10077</td>\n",
       "      <td>7</td>\n",
       "      <td>13</td>\n",
       "      <td>1 110</td>\n",
       "      <td>1.00</td>\n",
       "    </tr>\n",
       "    <tr>\n",
       "      <th>1</th>\n",
       "      <td>2022</td>\n",
       "      <td>April</td>\n",
       "      <td>W17</td>\n",
       "      <td>Q93</td>\n",
       "      <td>CLIENT SERVICE DENMARK</td>\n",
       "      <td>16071</td>\n",
       "      <td>15</td>\n",
       "      <td>18</td>\n",
       "      <td>929</td>\n",
       "      <td>1.00</td>\n",
       "    </tr>\n",
       "    <tr>\n",
       "      <th>2</th>\n",
       "      <td>2022</td>\n",
       "      <td>June</td>\n",
       "      <td>W26</td>\n",
       "      <td>Q93</td>\n",
       "      <td>CLIENT SERVICE DENMARK</td>\n",
       "      <td>10141</td>\n",
       "      <td>13</td>\n",
       "      <td>15</td>\n",
       "      <td>839</td>\n",
       "      <td>1.00</td>\n",
       "    </tr>\n",
       "    <tr>\n",
       "      <th>3</th>\n",
       "      <td>2022</td>\n",
       "      <td>April</td>\n",
       "      <td>W14</td>\n",
       "      <td>A90</td>\n",
       "      <td>CLIENT SERVICE FRANCE</td>\n",
       "      <td>187844</td>\n",
       "      <td>269</td>\n",
       "      <td>225</td>\n",
       "      <td>889</td>\n",
       "      <td>1.24</td>\n",
       "    </tr>\n",
       "    <tr>\n",
       "      <th>4</th>\n",
       "      <td>2022</td>\n",
       "      <td>May</td>\n",
       "      <td>W21</td>\n",
       "      <td>A90</td>\n",
       "      <td>CLIENT SERVICE FRANCE</td>\n",
       "      <td>178956</td>\n",
       "      <td>231</td>\n",
       "      <td>243</td>\n",
       "      <td>805</td>\n",
       "      <td>1.01</td>\n",
       "    </tr>\n",
       "  </tbody>\n",
       "</table>\n",
       "</div>"
      ],
      "text/plain": [
       "   Year     Month Week Retail Code               Countries Turnover in EUR  \\\n",
       "0  2022  February  W06         Q93  CLIENT SERVICE DENMARK           10077   \n",
       "1  2022     April  W17         Q93  CLIENT SERVICE DENMARK           16071   \n",
       "2  2022      June  W26         Q93  CLIENT SERVICE DENMARK           10141   \n",
       "3  2022     April  W14         A90   CLIENT SERVICE FRANCE          187844   \n",
       "4  2022       May  W21         A90   CLIENT SERVICE FRANCE          178956   \n",
       "\n",
       "  Commercial Sales Quantity Transactions (Scope Retail KPI) SPT in EUR   UPT  \n",
       "0                         7                              13      1 110  1.00  \n",
       "1                        15                              18        929  1.00  \n",
       "2                        13                              15        839  1.00  \n",
       "3                       269                             225        889  1.24  \n",
       "4                       231                             243        805  1.01  "
      ]
     },
     "execution_count": 34,
     "metadata": {},
     "output_type": "execute_result"
    }
   ],
   "source": [
    "sales_22.head()"
   ]
  },
  {
   "cell_type": "code",
   "execution_count": 35,
   "id": "c3bcbfd3-30b1-43aa-b738-92478090c577",
   "metadata": {},
   "outputs": [
    {
     "data": {
      "text/html": [
       "<div>\n",
       "<style scoped>\n",
       "    .dataframe tbody tr th:only-of-type {\n",
       "        vertical-align: middle;\n",
       "    }\n",
       "\n",
       "    .dataframe tbody tr th {\n",
       "        vertical-align: top;\n",
       "    }\n",
       "\n",
       "    .dataframe thead th {\n",
       "        text-align: right;\n",
       "    }\n",
       "</style>\n",
       "<table border=\"1\" class=\"dataframe\">\n",
       "  <thead>\n",
       "    <tr style=\"text-align: right;\">\n",
       "      <th></th>\n",
       "      <th>Rank</th>\n",
       "      <th>Country</th>\n",
       "      <th>2022</th>\n",
       "      <th>2020</th>\n",
       "      <th>Change EUR</th>\n",
       "      <th>Change %</th>\n",
       "    </tr>\n",
       "  </thead>\n",
       "  <tbody>\n",
       "    <tr>\n",
       "      <th>0</th>\n",
       "      <td>1.0</td>\n",
       "      <td>Denmark</td>\n",
       "      <td>6173.0</td>\n",
       "      <td>€5,179.00</td>\n",
       "      <td>€ 994.00</td>\n",
       "      <td>19.19%</td>\n",
       "    </tr>\n",
       "    <tr>\n",
       "      <th>1</th>\n",
       "      <td>2.0</td>\n",
       "      <td>Luxembourg</td>\n",
       "      <td>5143.0</td>\n",
       "      <td>€5,143.00</td>\n",
       "      <td>€ 0.00</td>\n",
       "      <td>0.00%</td>\n",
       "    </tr>\n",
       "    <tr>\n",
       "      <th>2</th>\n",
       "      <td>3.0</td>\n",
       "      <td>Austria</td>\n",
       "      <td>4540.0</td>\n",
       "      <td>€3,811.00</td>\n",
       "      <td>€ 729.00</td>\n",
       "      <td>19.13%</td>\n",
       "    </tr>\n",
       "    <tr>\n",
       "      <th>3</th>\n",
       "      <td>4.0</td>\n",
       "      <td>Germany</td>\n",
       "      <td>4168.0</td>\n",
       "      <td>€4,035.00</td>\n",
       "      <td>€ 133.00</td>\n",
       "      <td>3.30%</td>\n",
       "    </tr>\n",
       "    <tr>\n",
       "      <th>4</th>\n",
       "      <td>5.0</td>\n",
       "      <td>Sweden</td>\n",
       "      <td>4154.0</td>\n",
       "      <td>€3,194.00</td>\n",
       "      <td>€ 960.00</td>\n",
       "      <td>30.06%</td>\n",
       "    </tr>\n",
       "  </tbody>\n",
       "</table>\n",
       "</div>"
      ],
      "text/plain": [
       "   Rank     Country    2022       2020 Change EUR Change %\n",
       "0   1.0     Denmark  6173.0  €5,179.00   € 994.00   19.19%\n",
       "1   2.0  Luxembourg  5143.0  €5,143.00     € 0.00    0.00%\n",
       "2   3.0     Austria  4540.0  €3,811.00   € 729.00   19.13%\n",
       "3   4.0     Germany  4168.0  €4,035.00   € 133.00    3.30%\n",
       "4   5.0      Sweden  4154.0  €3,194.00   € 960.00   30.06%"
      ]
     },
     "execution_count": 35,
     "metadata": {},
     "output_type": "execute_result"
    }
   ],
   "source": [
    "avg_salaries.head()"
   ]
  },
  {
   "cell_type": "code",
   "execution_count": 37,
   "id": "4fa5ee81-cbff-41c7-a74a-4b410c4d78a0",
   "metadata": {},
   "outputs": [],
   "source": [
    "sales_22['Countries'] = sales_22['Countries'].str.replace('CLIENT SERVICE ', \"\")"
   ]
  },
  {
   "cell_type": "code",
   "execution_count": 39,
   "id": "e6378a88-609c-437e-86a6-b633591448c8",
   "metadata": {},
   "outputs": [],
   "source": [
    "sales_vs_salaries = sales_22.merge(avg_salaries, left_on= \"Countries\", right_on= \"Country\")"
   ]
  },
  {
   "cell_type": "code",
   "execution_count": 40,
   "id": "19840edd-f76d-48c5-89ee-968292b58746",
   "metadata": {},
   "outputs": [
    {
     "data": {
      "text/html": [
       "<div>\n",
       "<style scoped>\n",
       "    .dataframe tbody tr th:only-of-type {\n",
       "        vertical-align: middle;\n",
       "    }\n",
       "\n",
       "    .dataframe tbody tr th {\n",
       "        vertical-align: top;\n",
       "    }\n",
       "\n",
       "    .dataframe thead th {\n",
       "        text-align: right;\n",
       "    }\n",
       "</style>\n",
       "<table border=\"1\" class=\"dataframe\">\n",
       "  <thead>\n",
       "    <tr style=\"text-align: right;\">\n",
       "      <th></th>\n",
       "      <th>Year</th>\n",
       "      <th>Month</th>\n",
       "      <th>Week</th>\n",
       "      <th>Retail Code</th>\n",
       "      <th>Countries</th>\n",
       "      <th>Turnover in EUR</th>\n",
       "      <th>Commercial Sales Quantity</th>\n",
       "      <th>Transactions (Scope Retail KPI)</th>\n",
       "      <th>SPT in EUR</th>\n",
       "      <th>UPT</th>\n",
       "      <th>Rank</th>\n",
       "      <th>Country</th>\n",
       "      <th>2022</th>\n",
       "      <th>2020</th>\n",
       "      <th>Change EUR</th>\n",
       "      <th>Change %</th>\n",
       "    </tr>\n",
       "  </thead>\n",
       "  <tbody>\n",
       "  </tbody>\n",
       "</table>\n",
       "</div>"
      ],
      "text/plain": [
       "Empty DataFrame\n",
       "Columns: [Year, Month, Week, Retail Code, Countries, Turnover in EUR, Commercial Sales Quantity, Transactions (Scope Retail KPI), SPT in EUR, UPT, Rank, Country, 2022, 2020, Change EUR, Change %]\n",
       "Index: []"
      ]
     },
     "execution_count": 40,
     "metadata": {},
     "output_type": "execute_result"
    }
   ],
   "source": [
    "sales_vs_salaries.head()"
   ]
  },
  {
   "cell_type": "code",
   "execution_count": 42,
   "id": "9f60f015-a223-4cf3-8c44-f84e5b6c0134",
   "metadata": {},
   "outputs": [],
   "source": [
    "avg_salaries['Country'] = avg_salaries['Country'].str.upper()"
   ]
  },
  {
   "cell_type": "code",
   "execution_count": 43,
   "id": "38a25849-23d1-439a-8dda-2e8933d847fb",
   "metadata": {},
   "outputs": [],
   "source": [
    "sales_vs_salaries = sales_22.merge(avg_salaries, left_on= \"Countries\", right_on= \"Country\")"
   ]
  },
  {
   "cell_type": "code",
   "execution_count": 44,
   "id": "87e852cf-ab62-4b31-b84e-f5659d86f022",
   "metadata": {},
   "outputs": [
    {
     "data": {
      "text/html": [
       "<div>\n",
       "<style scoped>\n",
       "    .dataframe tbody tr th:only-of-type {\n",
       "        vertical-align: middle;\n",
       "    }\n",
       "\n",
       "    .dataframe tbody tr th {\n",
       "        vertical-align: top;\n",
       "    }\n",
       "\n",
       "    .dataframe thead th {\n",
       "        text-align: right;\n",
       "    }\n",
       "</style>\n",
       "<table border=\"1\" class=\"dataframe\">\n",
       "  <thead>\n",
       "    <tr style=\"text-align: right;\">\n",
       "      <th></th>\n",
       "      <th>Year</th>\n",
       "      <th>Month</th>\n",
       "      <th>Week</th>\n",
       "      <th>Retail Code</th>\n",
       "      <th>Countries</th>\n",
       "      <th>Turnover in EUR</th>\n",
       "      <th>Commercial Sales Quantity</th>\n",
       "      <th>Transactions (Scope Retail KPI)</th>\n",
       "      <th>SPT in EUR</th>\n",
       "      <th>UPT</th>\n",
       "      <th>Rank</th>\n",
       "      <th>Country</th>\n",
       "      <th>2022</th>\n",
       "      <th>2020</th>\n",
       "      <th>Change EUR</th>\n",
       "      <th>Change %</th>\n",
       "    </tr>\n",
       "  </thead>\n",
       "  <tbody>\n",
       "    <tr>\n",
       "      <th>0</th>\n",
       "      <td>2022</td>\n",
       "      <td>April</td>\n",
       "      <td>W17</td>\n",
       "      <td>G90</td>\n",
       "      <td>AUSTRIA</td>\n",
       "      <td>35821</td>\n",
       "      <td>37</td>\n",
       "      <td>40</td>\n",
       "      <td>989</td>\n",
       "      <td>1.00</td>\n",
       "      <td>3.0</td>\n",
       "      <td>AUSTRIA</td>\n",
       "      <td>4540.0</td>\n",
       "      <td>€3,811.00</td>\n",
       "      <td>€ 729.00</td>\n",
       "      <td>19.13%</td>\n",
       "    </tr>\n",
       "    <tr>\n",
       "      <th>1</th>\n",
       "      <td>2022</td>\n",
       "      <td>May</td>\n",
       "      <td>W21</td>\n",
       "      <td>G90</td>\n",
       "      <td>AUSTRIA</td>\n",
       "      <td>31450</td>\n",
       "      <td>30</td>\n",
       "      <td>36</td>\n",
       "      <td>1 039</td>\n",
       "      <td>1.00</td>\n",
       "      <td>3.0</td>\n",
       "      <td>AUSTRIA</td>\n",
       "      <td>4540.0</td>\n",
       "      <td>€3,811.00</td>\n",
       "      <td>€ 729.00</td>\n",
       "      <td>19.13%</td>\n",
       "    </tr>\n",
       "    <tr>\n",
       "      <th>2</th>\n",
       "      <td>2022</td>\n",
       "      <td>June</td>\n",
       "      <td>W22</td>\n",
       "      <td>G90</td>\n",
       "      <td>AUSTRIA</td>\n",
       "      <td>25204</td>\n",
       "      <td>22</td>\n",
       "      <td>25</td>\n",
       "      <td>1 084</td>\n",
       "      <td>1.00</td>\n",
       "      <td>3.0</td>\n",
       "      <td>AUSTRIA</td>\n",
       "      <td>4540.0</td>\n",
       "      <td>€3,811.00</td>\n",
       "      <td>€ 729.00</td>\n",
       "      <td>19.13%</td>\n",
       "    </tr>\n",
       "    <tr>\n",
       "      <th>3</th>\n",
       "      <td>2022</td>\n",
       "      <td>July</td>\n",
       "      <td>W26</td>\n",
       "      <td>G90</td>\n",
       "      <td>AUSTRIA</td>\n",
       "      <td>1229</td>\n",
       "      <td>1</td>\n",
       "      <td>3</td>\n",
       "      <td>1 146</td>\n",
       "      <td>1.00</td>\n",
       "      <td>3.0</td>\n",
       "      <td>AUSTRIA</td>\n",
       "      <td>4540.0</td>\n",
       "      <td>€3,811.00</td>\n",
       "      <td>€ 729.00</td>\n",
       "      <td>19.13%</td>\n",
       "    </tr>\n",
       "    <tr>\n",
       "      <th>4</th>\n",
       "      <td>2022</td>\n",
       "      <td>July</td>\n",
       "      <td>W28</td>\n",
       "      <td>G90</td>\n",
       "      <td>AUSTRIA</td>\n",
       "      <td>24112</td>\n",
       "      <td>25</td>\n",
       "      <td>30</td>\n",
       "      <td>998</td>\n",
       "      <td>1.03</td>\n",
       "      <td>3.0</td>\n",
       "      <td>AUSTRIA</td>\n",
       "      <td>4540.0</td>\n",
       "      <td>€3,811.00</td>\n",
       "      <td>€ 729.00</td>\n",
       "      <td>19.13%</td>\n",
       "    </tr>\n",
       "  </tbody>\n",
       "</table>\n",
       "</div>"
      ],
      "text/plain": [
       "   Year  Month Week Retail Code Countries Turnover in EUR  \\\n",
       "0  2022  April  W17         G90   AUSTRIA           35821   \n",
       "1  2022    May  W21         G90   AUSTRIA           31450   \n",
       "2  2022   June  W22         G90   AUSTRIA           25204   \n",
       "3  2022   July  W26         G90   AUSTRIA            1229   \n",
       "4  2022   July  W28         G90   AUSTRIA           24112   \n",
       "\n",
       "  Commercial Sales Quantity Transactions (Scope Retail KPI) SPT in EUR   UPT  \\\n",
       "0                        37                              40        989  1.00   \n",
       "1                        30                              36      1 039  1.00   \n",
       "2                        22                              25      1 084  1.00   \n",
       "3                         1                               3      1 146  1.00   \n",
       "4                        25                              30        998  1.03   \n",
       "\n",
       "   Rank  Country    2022       2020 Change EUR Change %  \n",
       "0   3.0  AUSTRIA  4540.0  €3,811.00   € 729.00   19.13%  \n",
       "1   3.0  AUSTRIA  4540.0  €3,811.00   € 729.00   19.13%  \n",
       "2   3.0  AUSTRIA  4540.0  €3,811.00   € 729.00   19.13%  \n",
       "3   3.0  AUSTRIA  4540.0  €3,811.00   € 729.00   19.13%  \n",
       "4   3.0  AUSTRIA  4540.0  €3,811.00   € 729.00   19.13%  "
      ]
     },
     "execution_count": 44,
     "metadata": {},
     "output_type": "execute_result"
    }
   ],
   "source": [
    "sales_vs_salaries.head()"
   ]
  },
  {
   "cell_type": "code",
   "execution_count": null,
   "id": "8eb41c52-04cd-4e29-affa-a50b7f64015c",
   "metadata": {},
   "outputs": [],
   "source": []
  }
 ],
 "metadata": {
  "kernelspec": {
   "display_name": "Python 3",
   "language": "python",
   "name": "python3"
  },
  "language_info": {
   "codemirror_mode": {
    "name": "ipython",
    "version": 3
   },
   "file_extension": ".py",
   "mimetype": "text/x-python",
   "name": "python",
   "nbconvert_exporter": "python",
   "pygments_lexer": "ipython3",
   "version": "3.8.8"
  }
 },
 "nbformat": 4,
 "nbformat_minor": 5
}
